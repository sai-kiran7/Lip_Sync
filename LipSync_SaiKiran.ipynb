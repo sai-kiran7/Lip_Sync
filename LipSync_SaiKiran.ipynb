{
  "nbformat": 4,
  "nbformat_minor": 0,
  "metadata": {
    "colab": {
      "provenance": [],
      "include_colab_link": true
    },
    "kernelspec": {
      "name": "python3",
      "display_name": "Python 3"
    },
    "accelerator": "GPU"
  },
  "cells": [
    {
      "cell_type": "markdown",
      "metadata": {
        "id": "view-in-github",
        "colab_type": "text"
      },
      "source": [
        "<a href=\"https://colab.research.google.com/github/sai-kiran7/Lip_Sync/blob/main/LipSync_SaiKiran.ipynb\" target=\"_parent\"><img src=\"https://colab.research.google.com/assets/colab-badge.svg\" alt=\"Open In Colab\"/></a>"
      ]
    },
    {
      "cell_type": "markdown",
      "metadata": {
        "id": "vSQFs_G8caeE"
      },
      "source": [
        "# Below are the some of the dependencies that we need to install"
      ]
    },
    {
      "cell_type": "code",
      "metadata": {
        "id": "XIVB0Xn1g6ih",
        "colab": {
          "base_uri": "https://localhost:8080/"
        },
        "outputId": "cebf381a-4744-4dea-e6d5-82490fde032d"
      },
      "source": [
        "!nvcc --version"
      ],
      "execution_count": 1,
      "outputs": [
        {
          "output_type": "stream",
          "name": "stdout",
          "text": [
            "nvcc: NVIDIA (R) Cuda compiler driver\n",
            "Copyright (c) 2005-2022 NVIDIA Corporation\n",
            "Built on Wed_Sep_21_10:33:58_PDT_2022\n",
            "Cuda compilation tools, release 11.8, V11.8.89\n",
            "Build cuda_11.8.r11.8/compiler.31833905_0\n"
          ]
        }
      ]
    },
    {
      "cell_type": "markdown",
      "source": [
        "To connect to your google drive"
      ],
      "metadata": {
        "id": "1l0MKB_1_DEu"
      }
    },
    {
      "cell_type": "code",
      "metadata": {
        "id": "qciH4PsUazL_",
        "colab": {
          "base_uri": "https://localhost:8080/"
        },
        "outputId": "0394ba9c-47d7-47b6-fd20-8fcd29c36b27"
      },
      "source": [
        "from google.colab import drive\n",
        "drive.mount('/content/gdrive')"
      ],
      "execution_count": 2,
      "outputs": [
        {
          "output_type": "stream",
          "name": "stdout",
          "text": [
            "Mounted at /content/gdrive\n"
          ]
        }
      ]
    },
    {
      "cell_type": "markdown",
      "metadata": {
        "id": "yJ5taGmPcWV-"
      },
      "source": [
        "# Getting the model and the weights from the google drive"
      ]
    },
    {
      "cell_type": "code",
      "metadata": {
        "id": "P3LihClHbUd3",
        "colab": {
          "base_uri": "https://localhost:8080/"
        },
        "outputId": "f633b8c5-568f-405c-dd0b-9f509fc0d342"
      },
      "source": [
        "!git clone https://github.com/Rudrabha/Wav2Lip.git"
      ],
      "execution_count": 3,
      "outputs": [
        {
          "output_type": "stream",
          "name": "stdout",
          "text": [
            "Cloning into 'Wav2Lip'...\n",
            "remote: Enumerating objects: 363, done.\u001b[K\n",
            "remote: Counting objects: 100% (3/3), done.\u001b[K\n",
            "remote: Compressing objects: 100% (3/3), done.\u001b[K\n",
            "remote: Total 363 (delta 0), reused 1 (delta 0), pack-reused 360\u001b[K\n",
            "Receiving objects: 100% (363/363), 528.20 KiB | 10.16 MiB/s, done.\n",
            "Resolving deltas: 100% (198/198), done.\n"
          ]
        }
      ]
    },
    {
      "cell_type": "code",
      "metadata": {
        "id": "y-19nzx8SamJ",
        "colab": {
          "base_uri": "https://localhost:8080/"
        },
        "outputId": "2100ad32-7f2e-46ef-e5eb-2d949a2f66ed"
      },
      "source": [
        "!ls /content/gdrive/MyDrive/Wav2Lip"
      ],
      "execution_count": 4,
      "outputs": [
        {
          "output_type": "stream",
          "name": "stdout",
          "text": [
            "bazigar_part1.mp4\t      kcr.mp4\tsaiki.mp4   zucker.ogg\n",
            "dictator_audio_extracted.wav  modi.jpg\tshannu.ogg\n",
            "dictator_orig.mp4\t      modi.ogg\tzucker.mp4\n"
          ]
        }
      ]
    },
    {
      "cell_type": "code",
      "metadata": {
        "id": "YjzMPy_Sb0AI"
      },
      "source": [
        "!cp -ri \"/content/gdrive/MyDrive/Wav2lip/wav2lip_gan.pth\" /content/Wav2Lip/checkpoints/"
      ],
      "execution_count": 5,
      "outputs": []
    },
    {
      "cell_type": "code",
      "metadata": {
        "id": "Ooh28vw-Uvd3",
        "colab": {
          "base_uri": "https://localhost:8080/"
        },
        "outputId": "c37a0ff7-c2f7-42ce-d8be-a7919723cf56"
      },
      "source": [
        "!pip uninstall tensorflow tensorflow-gpu"
      ],
      "execution_count": 6,
      "outputs": [
        {
          "output_type": "stream",
          "name": "stdout",
          "text": [
            "Found existing installation: tensorflow 2.12.0\n",
            "Uninstalling tensorflow-2.12.0:\n",
            "  Would remove:\n",
            "    /usr/local/bin/estimator_ckpt_converter\n",
            "    /usr/local/bin/import_pb_to_tensorboard\n",
            "    /usr/local/bin/saved_model_cli\n",
            "    /usr/local/bin/tensorboard\n",
            "    /usr/local/bin/tf_upgrade_v2\n",
            "    /usr/local/bin/tflite_convert\n",
            "    /usr/local/bin/toco\n",
            "    /usr/local/bin/toco_from_protos\n",
            "    /usr/local/lib/python3.10/dist-packages/tensorflow-2.12.0.dist-info/*\n",
            "    /usr/local/lib/python3.10/dist-packages/tensorflow/*\n",
            "Proceed (Y/n)? y\n",
            "  Successfully uninstalled tensorflow-2.12.0\n",
            "\u001b[33mWARNING: Skipping tensorflow-gpu as it is not installed.\u001b[0m\u001b[33m\n",
            "\u001b[0m"
          ]
        }
      ]
    },
    {
      "cell_type": "code",
      "metadata": {
        "id": "49dCYlLdcK2D"
      },
      "source": [
        "!cd Wav2Lip && pip install -r requirements.txt"
      ],
      "execution_count": null,
      "outputs": []
    },
    {
      "cell_type": "code",
      "metadata": {
        "id": "ey_bN4M6X_95",
        "colab": {
          "base_uri": "https://localhost:8080/"
        },
        "outputId": "35e3f266-2479-49e5-eece-42289fc27664"
      },
      "source": [
        "!wget \"https://www.adrianbulat.com/downloads/python-fan/s3fd-619a316812.pth\" -O \"Wav2Lip/face_detection/detection/sfd/s3fd.pth\""
      ],
      "execution_count": 8,
      "outputs": [
        {
          "output_type": "stream",
          "name": "stdout",
          "text": [
            "--2023-08-04 15:45:11--  https://www.adrianbulat.com/downloads/python-fan/s3fd-619a316812.pth\n",
            "Resolving www.adrianbulat.com (www.adrianbulat.com)... 45.136.29.207\n",
            "Connecting to www.adrianbulat.com (www.adrianbulat.com)|45.136.29.207|:443... connected.\n",
            "HTTP request sent, awaiting response... 200 OK\n",
            "Length: 89843225 (86M) [application/octet-stream]\n",
            "Saving to: ‘Wav2Lip/face_detection/detection/sfd/s3fd.pth’\n",
            "\n",
            "Wav2Lip/face_detect 100%[===================>]  85.68M   285KB/s    in 2m 22s  \n",
            "\n",
            "2023-08-04 15:47:34 (619 KB/s) - ‘Wav2Lip/face_detection/detection/sfd/s3fd.pth’ saved [89843225/89843225]\n",
            "\n"
          ]
        }
      ]
    },
    {
      "cell_type": "markdown",
      "metadata": {
        "id": "qdIQfY2Kswcb"
      },
      "source": [
        "# Make sure you enter the correct names of the audio and video files"
      ]
    },
    {
      "cell_type": "code",
      "metadata": {
        "id": "KoVGMtjRZfeR",
        "colab": {
          "base_uri": "https://localhost:8080/"
        },
        "outputId": "94d7ec48-6907-490d-b3ac-8f5073ebbbd1"
      },
      "source": [
        "!cp \"/content/gdrive/My Drive/Wav2Lip/kcr.mp4\" \"/content/gdrive/My Drive/Wav2Lip/zucker.ogg\" sample_data/\n",
        "!ls sample_data/"
      ],
      "execution_count": 9,
      "outputs": [
        {
          "output_type": "stream",
          "name": "stdout",
          "text": [
            "anscombe.json\t\t      kcr.mp4\t\t     README.md\n",
            "california_housing_test.csv   mnist_test.csv\t     zucker.ogg\n",
            "california_housing_train.csv  mnist_train_small.csv\n"
          ]
        }
      ]
    },
    {
      "cell_type": "code",
      "metadata": {
        "id": "jR5utmDMcSZY",
        "colab": {
          "base_uri": "https://localhost:8080/"
        },
        "outputId": "8305bf17-47d6-4e67-b845-b21537970f32"
      },
      "source": [
        "!cd Wav2Lip && python inference.py --checkpoint_path checkpoints/wav2lip_gan.pth --face \"../sample_data/kcr.mp4\" --audio \"../sample_data/zucker.ogg\""
      ],
      "execution_count": 10,
      "outputs": [
        {
          "output_type": "stream",
          "name": "stdout",
          "text": [
            "Using cuda for inference.\n",
            "Reading video frames...\n",
            "Number of frames available for inference: 283\n",
            "Extracting raw audio...\n",
            "ffmpeg version 4.4.2-0ubuntu0.22.04.1 Copyright (c) 2000-2021 the FFmpeg developers\n",
            "  built with gcc 11 (Ubuntu 11.2.0-19ubuntu1)\n",
            "  configuration: --prefix=/usr --extra-version=0ubuntu0.22.04.1 --toolchain=hardened --libdir=/usr/lib/x86_64-linux-gnu --incdir=/usr/include/x86_64-linux-gnu --arch=amd64 --enable-gpl --disable-stripping --enable-gnutls --enable-ladspa --enable-libaom --enable-libass --enable-libbluray --enable-libbs2b --enable-libcaca --enable-libcdio --enable-libcodec2 --enable-libdav1d --enable-libflite --enable-libfontconfig --enable-libfreetype --enable-libfribidi --enable-libgme --enable-libgsm --enable-libjack --enable-libmp3lame --enable-libmysofa --enable-libopenjpeg --enable-libopenmpt --enable-libopus --enable-libpulse --enable-librabbitmq --enable-librubberband --enable-libshine --enable-libsnappy --enable-libsoxr --enable-libspeex --enable-libsrt --enable-libssh --enable-libtheora --enable-libtwolame --enable-libvidstab --enable-libvorbis --enable-libvpx --enable-libwebp --enable-libx265 --enable-libxml2 --enable-libxvid --enable-libzimg --enable-libzmq --enable-libzvbi --enable-lv2 --enable-omx --enable-openal --enable-opencl --enable-opengl --enable-sdl2 --enable-pocketsphinx --enable-librsvg --enable-libmfx --enable-libdc1394 --enable-libdrm --enable-libiec61883 --enable-chromaprint --enable-frei0r --enable-libx264 --enable-shared\n",
            "  libavutil      56. 70.100 / 56. 70.100\n",
            "  libavcodec     58.134.100 / 58.134.100\n",
            "  libavformat    58. 76.100 / 58. 76.100\n",
            "  libavdevice    58. 13.100 / 58. 13.100\n",
            "  libavfilter     7.110.100 /  7.110.100\n",
            "  libswscale      5.  9.100 /  5.  9.100\n",
            "  libswresample   3.  9.100 /  3.  9.100\n",
            "  libpostproc    55.  9.100 / 55.  9.100\n",
            "Input #0, ogg, from '../sample_data/zucker.ogg':\n",
            "  Duration: 00:00:09.29, start: -0.310000, bitrate: 19 kb/s\n",
            "  Stream #0:0: Audio: opus, 48000 Hz, mono, fltp\n",
            "    Metadata:\n",
            "      encoder         : Lavf58.76.100\n",
            "Stream mapping:\n",
            "  Stream #0:0 -> #0:0 (opus (native) -> pcm_s16le (native))\n",
            "Press [q] to stop, [?] for help\n",
            "Output #0, wav, to 'temp/temp.wav':\n",
            "  Metadata:\n",
            "    ISFT            : Lavf58.76.100\n",
            "  Stream #0:0: Audio: pcm_s16le ([1][0][0][0] / 0x0001), 48000 Hz, mono, s16, 768 kb/s\n",
            "    Metadata:\n",
            "      encoder         : Lavc58.134.100 pcm_s16le\n",
            "size=     900kB time=00:00:09.57 bitrate= 769.7kbits/s speed= 194x    \n",
            "video:0kB audio:900kB subtitle:0kB other streams:0kB global headers:0kB muxing overhead: 0.008465%\n",
            "(80, 768)\n",
            "Length of mel chunks: 284\n",
            "  0% 0/3 [00:00<?, ?it/s]\n",
            "  0% 0/18 [00:18<?, ?it/s]\n",
            "Recovering from OOM error; New batch size: 8\n",
            "\n",
            "  0% 0/36 [00:00<?, ?it/s]\u001b[A\n",
            "  3% 1/36 [03:42<2:09:43, 222.38s/it]\u001b[A\n",
            "  6% 2/36 [03:45<53:01, 93.58s/it]   \u001b[A\n",
            "  8% 3/36 [03:48<28:44, 52.27s/it]\u001b[A\n",
            " 11% 4/36 [03:51<17:31, 32.85s/it]\u001b[A\n",
            " 14% 5/36 [03:55<11:27, 22.16s/it]\u001b[A\n",
            " 17% 6/36 [03:58<07:54, 15.82s/it]\u001b[A\n",
            " 19% 7/36 [04:01<05:37, 11.66s/it]\u001b[A\n",
            " 22% 8/36 [04:04<04:09,  8.92s/it]\u001b[A\n",
            " 25% 9/36 [04:08<03:12,  7.13s/it]\u001b[A\n",
            " 28% 10/36 [04:11<02:36,  6.01s/it]\u001b[A\n",
            " 31% 11/36 [04:14<02:08,  5.12s/it]\u001b[A\n",
            " 33% 12/36 [04:17<01:48,  4.51s/it]\u001b[A\n",
            " 36% 13/36 [04:20<01:34,  4.10s/it]\u001b[A\n",
            " 39% 14/36 [04:24<01:26,  3.92s/it]\u001b[A\n",
            " 42% 15/36 [04:27<01:17,  3.67s/it]\u001b[A\n",
            " 44% 16/36 [04:30<01:10,  3.50s/it]\u001b[A\n",
            " 47% 17/36 [04:33<01:04,  3.39s/it]\u001b[A\n",
            " 50% 18/36 [04:36<01:00,  3.34s/it]\u001b[A\n",
            " 53% 19/36 [04:40<00:57,  3.40s/it]\u001b[A\n",
            " 56% 20/36 [04:43<00:52,  3.31s/it]\u001b[A\n",
            " 58% 21/36 [04:46<00:48,  3.25s/it]\u001b[A\n",
            " 61% 22/36 [04:49<00:45,  3.23s/it]\u001b[A\n",
            " 64% 23/36 [04:53<00:43,  3.31s/it]\u001b[A\n",
            " 67% 24/36 [04:56<00:39,  3.25s/it]\u001b[A\n",
            " 69% 25/36 [04:59<00:35,  3.21s/it]\u001b[A\n",
            " 72% 26/36 [05:02<00:31,  3.19s/it]\u001b[A\n",
            " 75% 27/36 [05:06<00:29,  3.29s/it]\u001b[A\n",
            " 78% 28/36 [05:09<00:25,  3.22s/it]\u001b[A\n",
            " 81% 29/36 [05:12<00:22,  3.18s/it]\u001b[A\n",
            " 83% 30/36 [05:15<00:18,  3.15s/it]\u001b[A\n",
            " 86% 31/36 [05:18<00:15,  3.18s/it]\u001b[A\n",
            " 89% 32/36 [05:22<00:13,  3.26s/it]\u001b[A\n",
            " 92% 33/36 [05:25<00:09,  3.22s/it]\u001b[A\n",
            " 94% 34/36 [05:28<00:06,  3.19s/it]\u001b[A\n",
            " 97% 35/36 [05:31<00:03,  3.18s/it]\u001b[A\n",
            "100% 36/36 [05:48<00:00,  9.69s/it]\n",
            "Load checkpoint from: checkpoints/wav2lip_gan.pth\n",
            "Model loaded\n",
            "100% 3/3 [06:30<00:00, 130.27s/it]\n",
            "ffmpeg version 4.4.2-0ubuntu0.22.04.1 Copyright (c) 2000-2021 the FFmpeg developers\n",
            "  built with gcc 11 (Ubuntu 11.2.0-19ubuntu1)\n",
            "  configuration: --prefix=/usr --extra-version=0ubuntu0.22.04.1 --toolchain=hardened --libdir=/usr/lib/x86_64-linux-gnu --incdir=/usr/include/x86_64-linux-gnu --arch=amd64 --enable-gpl --disable-stripping --enable-gnutls --enable-ladspa --enable-libaom --enable-libass --enable-libbluray --enable-libbs2b --enable-libcaca --enable-libcdio --enable-libcodec2 --enable-libdav1d --enable-libflite --enable-libfontconfig --enable-libfreetype --enable-libfribidi --enable-libgme --enable-libgsm --enable-libjack --enable-libmp3lame --enable-libmysofa --enable-libopenjpeg --enable-libopenmpt --enable-libopus --enable-libpulse --enable-librabbitmq --enable-librubberband --enable-libshine --enable-libsnappy --enable-libsoxr --enable-libspeex --enable-libsrt --enable-libssh --enable-libtheora --enable-libtwolame --enable-libvidstab --enable-libvorbis --enable-libvpx --enable-libwebp --enable-libx265 --enable-libxml2 --enable-libxvid --enable-libzimg --enable-libzmq --enable-libzvbi --enable-lv2 --enable-omx --enable-openal --enable-opencl --enable-opengl --enable-sdl2 --enable-pocketsphinx --enable-librsvg --enable-libmfx --enable-libdc1394 --enable-libdrm --enable-libiec61883 --enable-chromaprint --enable-frei0r --enable-libx264 --enable-shared\n",
            "  libavutil      56. 70.100 / 56. 70.100\n",
            "  libavcodec     58.134.100 / 58.134.100\n",
            "  libavformat    58. 76.100 / 58. 76.100\n",
            "  libavdevice    58. 13.100 / 58. 13.100\n",
            "  libavfilter     7.110.100 /  7.110.100\n",
            "  libswscale      5.  9.100 /  5.  9.100\n",
            "  libswresample   3.  9.100 /  3.  9.100\n",
            "  libpostproc    55.  9.100 / 55.  9.100\n",
            "\u001b[0;33mGuessed Channel Layout for Input Stream #0.0 : mono\n",
            "\u001b[0mInput #0, wav, from 'temp/temp.wav':\n",
            "  Metadata:\n",
            "    encoder         : Lavf58.76.100\n",
            "  Duration: 00:00:09.60, bitrate: 768 kb/s\n",
            "  Stream #0:0: Audio: pcm_s16le ([1][0][0][0] / 0x0001), 48000 Hz, mono, s16, 768 kb/s\n",
            "Input #1, avi, from 'temp/result.avi':\n",
            "  Metadata:\n",
            "    software        : Lavf59.27.100\n",
            "  Duration: 00:00:09.47, start: 0.000000, bitrate: 2385 kb/s\n",
            "  Stream #1:0: Video: mpeg4 (Simple Profile) (DIVX / 0x58564944), yuv420p, 1920x1080 [SAR 1:1 DAR 16:9], 2378 kb/s, 30 fps, 30 tbr, 30 tbn, 30 tbc\n",
            "Stream mapping:\n",
            "  Stream #1:0 -> #0:0 (mpeg4 (native) -> h264 (libx264))\n",
            "  Stream #0:0 -> #0:1 (pcm_s16le (native) -> aac (native))\n",
            "Press [q] to stop, [?] for help\n",
            "\u001b[1;36m[libx264 @ 0x5cf54e9afd80] \u001b[0m\u001b[0;33m-qscale is ignored, -crf is recommended.\n",
            "\u001b[0m\u001b[1;36m[libx264 @ 0x5cf54e9afd80] \u001b[0musing SAR=1/1\n",
            "\u001b[1;36m[libx264 @ 0x5cf54e9afd80] \u001b[0musing cpu capabilities: MMX2 SSE2Fast SSSE3 SSE4.2 AVX FMA3 BMI2 AVX2 AVX512\n",
            "\u001b[1;36m[libx264 @ 0x5cf54e9afd80] \u001b[0mprofile High, level 4.0, 4:2:0, 8-bit\n",
            "\u001b[1;36m[libx264 @ 0x5cf54e9afd80] \u001b[0m264 - core 163 r3060 5db6aa6 - H.264/MPEG-4 AVC codec - Copyleft 2003-2021 - http://www.videolan.org/x264.html - options: cabac=1 ref=3 deblock=1:0:0 analyse=0x3:0x113 me=hex subme=7 psy=1 psy_rd=1.00:0.00 mixed_ref=1 me_range=16 chroma_me=1 trellis=1 8x8dct=1 cqm=0 deadzone=21,11 fast_pskip=1 chroma_qp_offset=-2 threads=3 lookahead_threads=1 sliced_threads=0 nr=0 decimate=1 interlaced=0 bluray_compat=0 constrained_intra=0 bframes=3 b_pyramid=2 b_adapt=1 b_bias=0 direct=1 weightb=1 open_gop=0 weightp=2 keyint=250 keyint_min=25 scenecut=40 intra_refresh=0 rc_lookahead=40 rc=crf mbtree=1 crf=23.0 qcomp=0.60 qpmin=0 qpmax=69 qpstep=4 ip_ratio=1.40 aq=1:1.00\n",
            "Output #0, mp4, to 'results/result_voice.mp4':\n",
            "  Metadata:\n",
            "    encoder         : Lavf58.76.100\n",
            "  Stream #0:0: Video: h264 (avc1 / 0x31637661), yuv420p(progressive), 1920x1080 [SAR 1:1 DAR 16:9], q=2-31, 30 fps, 15360 tbn\n",
            "    Metadata:\n",
            "      encoder         : Lavc58.134.100 libx264\n",
            "    Side data:\n",
            "      cpb: bitrate max/min/avg: 0/0/0 buffer size: 0 vbv_delay: N/A\n",
            "  Stream #0:1: Audio: aac (LC) (mp4a / 0x6134706D), 48000 Hz, mono, fltp, 69 kb/s\n",
            "    Metadata:\n",
            "      encoder         : Lavc58.134.100 aac\n",
            "frame=  284 fps= 23 q=-1.0 Lsize=     823kB time=00:00:09.57 bitrate= 703.8kbits/s speed=0.763x    \n",
            "video:730kB audio:82kB subtitle:0kB other streams:0kB global headers:0kB muxing overhead: 1.419659%\n",
            "\u001b[1;36m[libx264 @ 0x5cf54e9afd80] \u001b[0mframe I:2     Avg QP:15.71  size: 37422\n",
            "\u001b[1;36m[libx264 @ 0x5cf54e9afd80] \u001b[0mframe P:90    Avg QP:18.16  size:  5273\n",
            "\u001b[1;36m[libx264 @ 0x5cf54e9afd80] \u001b[0mframe B:192   Avg QP:21.62  size:  1026\n",
            "\u001b[1;36m[libx264 @ 0x5cf54e9afd80] \u001b[0mconsecutive B-frames:  6.7%  9.2%  1.1% 83.1%\n",
            "\u001b[1;36m[libx264 @ 0x5cf54e9afd80] \u001b[0mmb I  I16..4: 46.4% 49.0%  4.6%\n",
            "\u001b[1;36m[libx264 @ 0x5cf54e9afd80] \u001b[0mmb P  I16..4:  0.9%  1.9%  0.0%  P16..4:  8.0%  2.2%  1.1%  0.0%  0.0%    skip:85.8%\n",
            "\u001b[1;36m[libx264 @ 0x5cf54e9afd80] \u001b[0mmb B  I16..4:  0.0%  0.2%  0.0%  B16..8:  6.7%  0.3%  0.0%  direct: 0.1%  skip:92.8%  L0:48.6% L1:49.6% BI: 1.9%\n",
            "\u001b[1;36m[libx264 @ 0x5cf54e9afd80] \u001b[0m8x8 transform intra:61.5% inter:85.7%\n",
            "\u001b[1;36m[libx264 @ 0x5cf54e9afd80] \u001b[0mcoded y,uvDC,uvAC intra: 27.2% 30.1% 5.5% inter: 1.3% 1.6% 0.0%\n",
            "\u001b[1;36m[libx264 @ 0x5cf54e9afd80] \u001b[0mi16 v,h,dc,p: 83%  8%  7%  2%\n",
            "\u001b[1;36m[libx264 @ 0x5cf54e9afd80] \u001b[0mi8 v,h,dc,ddl,ddr,vr,hd,vl,hu: 29% 16% 43%  2%  2%  2%  2%  2%  2%\n",
            "\u001b[1;36m[libx264 @ 0x5cf54e9afd80] \u001b[0mi4 v,h,dc,ddl,ddr,vr,hd,vl,hu: 36% 28% 11%  4%  6%  5%  5%  3%  3%\n",
            "\u001b[1;36m[libx264 @ 0x5cf54e9afd80] \u001b[0mi8c dc,h,v,p: 69% 15% 14%  2%\n",
            "\u001b[1;36m[libx264 @ 0x5cf54e9afd80] \u001b[0mWeighted P-Frames: Y:0.0% UV:0.0%\n",
            "\u001b[1;36m[libx264 @ 0x5cf54e9afd80] \u001b[0mref P L0: 67.6%  9.7% 17.2%  5.5%\n",
            "\u001b[1;36m[libx264 @ 0x5cf54e9afd80] \u001b[0mref B L0: 82.3% 14.7%  2.9%\n",
            "\u001b[1;36m[libx264 @ 0x5cf54e9afd80] \u001b[0mref B L1: 94.7%  5.3%\n",
            "\u001b[1;36m[libx264 @ 0x5cf54e9afd80] \u001b[0mkb/s:630.74\n",
            "\u001b[1;36m[aac @ 0x5cf54e9b0fc0] \u001b[0mQavg: 115.668\n"
          ]
        }
      ]
    },
    {
      "cell_type": "code",
      "metadata": {
        "id": "uNOAZvkszEOw"
      },
      "source": [
        "# we get the results at the  Wav2Lip/results/ folder."
      ],
      "execution_count": null,
      "outputs": []
    },
    {
      "cell_type": "markdown",
      "metadata": {
        "id": "d7zgfrQqbKom"
      },
      "source": [
        "## **we can also perform below steps to pass through the model**\n"
      ]
    },
    {
      "cell_type": "markdown",
      "metadata": {
        "id": "0f9A9VDVbZAG"
      },
      "source": [
        "1. By applying padding we get the proper chin region"
      ]
    },
    {
      "cell_type": "code",
      "metadata": {
        "id": "45XW4SZAzIz5",
        "colab": {
          "base_uri": "https://localhost:8080/"
        },
        "outputId": "04bd1826-1608-478b-c87d-b3d899fa0834"
      },
      "source": [
        "!cd Wav2Lip && python inference.py --checkpoint_path checkpoints/wav2lip_gan.pth --face \"../sample_data/modi.jpg\" --audio \"../sample_data/modi.ogg\" --pads 0 20 0 0"
      ],
      "execution_count": null,
      "outputs": [
        {
          "output_type": "stream",
          "name": "stdout",
          "text": [
            "Using cuda for inference.\n",
            "Reading video frames...\n",
            "Number of frames available for inference: 1\n",
            "Extracting raw audio...\n",
            "ffmpeg version 4.4.2-0ubuntu0.22.04.1 Copyright (c) 2000-2021 the FFmpeg developers\n",
            "  built with gcc 11 (Ubuntu 11.2.0-19ubuntu1)\n",
            "  configuration: --prefix=/usr --extra-version=0ubuntu0.22.04.1 --toolchain=hardened --libdir=/usr/lib/x86_64-linux-gnu --incdir=/usr/include/x86_64-linux-gnu --arch=amd64 --enable-gpl --disable-stripping --enable-gnutls --enable-ladspa --enable-libaom --enable-libass --enable-libbluray --enable-libbs2b --enable-libcaca --enable-libcdio --enable-libcodec2 --enable-libdav1d --enable-libflite --enable-libfontconfig --enable-libfreetype --enable-libfribidi --enable-libgme --enable-libgsm --enable-libjack --enable-libmp3lame --enable-libmysofa --enable-libopenjpeg --enable-libopenmpt --enable-libopus --enable-libpulse --enable-librabbitmq --enable-librubberband --enable-libshine --enable-libsnappy --enable-libsoxr --enable-libspeex --enable-libsrt --enable-libssh --enable-libtheora --enable-libtwolame --enable-libvidstab --enable-libvorbis --enable-libvpx --enable-libwebp --enable-libx265 --enable-libxml2 --enable-libxvid --enable-libzimg --enable-libzmq --enable-libzvbi --enable-lv2 --enable-omx --enable-openal --enable-opencl --enable-opengl --enable-sdl2 --enable-pocketsphinx --enable-librsvg --enable-libmfx --enable-libdc1394 --enable-libdrm --enable-libiec61883 --enable-chromaprint --enable-frei0r --enable-libx264 --enable-shared\n",
            "  libavutil      56. 70.100 / 56. 70.100\n",
            "  libavcodec     58.134.100 / 58.134.100\n",
            "  libavformat    58. 76.100 / 58. 76.100\n",
            "  libavdevice    58. 13.100 / 58. 13.100\n",
            "  libavfilter     7.110.100 /  7.110.100\n",
            "  libswscale      5.  9.100 /  5.  9.100\n",
            "  libswresample   3.  9.100 /  3.  9.100\n",
            "  libpostproc    55.  9.100 / 55.  9.100\n",
            "Input #0, ogg, from '../sample_data/modi.ogg':\n",
            "  Duration: 00:00:21.02, start: 0.002167, bitrate: 18 kb/s\n",
            "  Stream #0:0: Audio: opus, 48000 Hz, mono, fltp\n",
            "Stream mapping:\n",
            "  Stream #0:0 -> #0:0 (opus (native) -> pcm_s16le (native))\n",
            "Press [q] to stop, [?] for help\n",
            "Output #0, wav, to 'temp/temp.wav':\n",
            "  Metadata:\n",
            "    ISFT            : Lavf58.76.100\n",
            "  Stream #0:0: Audio: pcm_s16le ([1][0][0][0] / 0x0001), 48000 Hz, mono, s16, 768 kb/s\n",
            "    Metadata:\n",
            "      encoder         : Lavc58.134.100 pcm_s16le\n",
            "size=       2kB time=00:00:00.00 bitrate=N/A speed=N/A    \rsize=    1970kB time=00:00:20.99 bitrate= 768.8kbits/s speed= 382x    \n",
            "video:0kB audio:1970kB subtitle:0kB other streams:0kB global headers:0kB muxing overhead: 0.003866%\n",
            "(80, 1682)\n",
            "Length of mel chunks: 522\n",
            "  0% 0/5 [00:00<?, ?it/s]\n",
            "  0% 0/1 [00:00<?, ?it/s]\u001b[A\n",
            "100% 1/1 [00:01<00:00,  1.79s/it]\n",
            "Load checkpoint from: checkpoints/wav2lip_gan.pth\n",
            "Model loaded\n",
            "100% 5/5 [00:15<00:00,  3.13s/it]\n",
            "ffmpeg version 4.4.2-0ubuntu0.22.04.1 Copyright (c) 2000-2021 the FFmpeg developers\n",
            "  built with gcc 11 (Ubuntu 11.2.0-19ubuntu1)\n",
            "  configuration: --prefix=/usr --extra-version=0ubuntu0.22.04.1 --toolchain=hardened --libdir=/usr/lib/x86_64-linux-gnu --incdir=/usr/include/x86_64-linux-gnu --arch=amd64 --enable-gpl --disable-stripping --enable-gnutls --enable-ladspa --enable-libaom --enable-libass --enable-libbluray --enable-libbs2b --enable-libcaca --enable-libcdio --enable-libcodec2 --enable-libdav1d --enable-libflite --enable-libfontconfig --enable-libfreetype --enable-libfribidi --enable-libgme --enable-libgsm --enable-libjack --enable-libmp3lame --enable-libmysofa --enable-libopenjpeg --enable-libopenmpt --enable-libopus --enable-libpulse --enable-librabbitmq --enable-librubberband --enable-libshine --enable-libsnappy --enable-libsoxr --enable-libspeex --enable-libsrt --enable-libssh --enable-libtheora --enable-libtwolame --enable-libvidstab --enable-libvorbis --enable-libvpx --enable-libwebp --enable-libx265 --enable-libxml2 --enable-libxvid --enable-libzimg --enable-libzmq --enable-libzvbi --enable-lv2 --enable-omx --enable-openal --enable-opencl --enable-opengl --enable-sdl2 --enable-pocketsphinx --enable-librsvg --enable-libmfx --enable-libdc1394 --enable-libdrm --enable-libiec61883 --enable-chromaprint --enable-frei0r --enable-libx264 --enable-shared\n",
            "  libavutil      56. 70.100 / 56. 70.100\n",
            "  libavcodec     58.134.100 / 58.134.100\n",
            "  libavformat    58. 76.100 / 58. 76.100\n",
            "  libavdevice    58. 13.100 / 58. 13.100\n",
            "  libavfilter     7.110.100 /  7.110.100\n",
            "  libswscale      5.  9.100 /  5.  9.100\n",
            "  libswresample   3.  9.100 /  3.  9.100\n",
            "  libpostproc    55.  9.100 / 55.  9.100\n",
            "\u001b[0;33mGuessed Channel Layout for Input Stream #0.0 : mono\n",
            "\u001b[0mInput #0, wav, from 'temp/temp.wav':\n",
            "  Metadata:\n",
            "    encoder         : Lavf58.76.100\n",
            "  Duration: 00:00:21.02, bitrate: 768 kb/s\n",
            "  Stream #0:0: Audio: pcm_s16le ([1][0][0][0] / 0x0001), 48000 Hz, mono, s16, 768 kb/s\n",
            "Input #1, avi, from 'temp/result.avi':\n",
            "  Metadata:\n",
            "    software        : Lavf59.27.100\n",
            "  Duration: 00:00:20.88, start: 0.000000, bitrate: 92 kb/s\n",
            "  Stream #1:0: Video: mpeg4 (Simple Profile) (DIVX / 0x58564944), yuv420p, 162x180 [SAR 1:1 DAR 9:10], 86 kb/s, 25 fps, 25 tbr, 25 tbn, 25 tbc\n",
            "Stream mapping:\n",
            "  Stream #1:0 -> #0:0 (mpeg4 (native) -> h264 (libx264))\n",
            "  Stream #0:0 -> #0:1 (pcm_s16le (native) -> aac (native))\n",
            "Press [q] to stop, [?] for help\n",
            "\u001b[1;36m[libx264 @ 0x5bc1d60aad80] \u001b[0m\u001b[0;33m-qscale is ignored, -crf is recommended.\n",
            "\u001b[0m\u001b[1;36m[libx264 @ 0x5bc1d60aad80] \u001b[0musing SAR=1/1\n",
            "\u001b[1;36m[libx264 @ 0x5bc1d60aad80] \u001b[0musing cpu capabilities: MMX2 SSE2Fast SSSE3 SSE4.2 AVX FMA3 BMI2 AVX2\n",
            "\u001b[1;36m[libx264 @ 0x5bc1d60aad80] \u001b[0mprofile High, level 1.2, 4:2:0, 8-bit\n",
            "\u001b[1;36m[libx264 @ 0x5bc1d60aad80] \u001b[0m264 - core 163 r3060 5db6aa6 - H.264/MPEG-4 AVC codec - Copyleft 2003-2021 - http://www.videolan.org/x264.html - options: cabac=1 ref=3 deblock=1:0:0 analyse=0x3:0x113 me=hex subme=7 psy=1 psy_rd=1.00:0.00 mixed_ref=1 me_range=16 chroma_me=1 trellis=1 8x8dct=1 cqm=0 deadzone=21,11 fast_pskip=1 chroma_qp_offset=-2 threads=3 lookahead_threads=1 sliced_threads=0 nr=0 decimate=1 interlaced=0 bluray_compat=0 constrained_intra=0 bframes=3 b_pyramid=2 b_adapt=1 b_bias=0 direct=1 weightb=1 open_gop=0 weightp=2 keyint=250 keyint_min=25 scenecut=40 intra_refresh=0 rc_lookahead=40 rc=crf mbtree=1 crf=23.0 qcomp=0.60 qpmin=0 qpmax=69 qpstep=4 ip_ratio=1.40 aq=1:1.00\n",
            "Output #0, mp4, to 'results/result_voice.mp4':\n",
            "  Metadata:\n",
            "    encoder         : Lavf58.76.100\n",
            "  Stream #0:0: Video: h264 (avc1 / 0x31637661), yuv420p(progressive), 162x180 [SAR 1:1 DAR 9:10], q=2-31, 25 fps, 12800 tbn\n",
            "    Metadata:\n",
            "      encoder         : Lavc58.134.100 libx264\n",
            "    Side data:\n",
            "      cpb: bitrate max/min/avg: 0/0/0 buffer size: 0 vbv_delay: N/A\n",
            "  Stream #0:1: Audio: aac (LC) (mp4a / 0x6134706D), 48000 Hz, mono, fltp, 69 kb/s\n",
            "    Metadata:\n",
            "      encoder         : Lavc58.134.100 aac\n",
            "frame=  522 fps=0.0 q=-1.0 Lsize=     237kB time=00:00:21.01 bitrate=  92.2kbits/s speed=37.1x    \n",
            "video:42kB audio:179kB subtitle:0kB other streams:0kB global headers:0kB muxing overhead: 7.384689%\n",
            "\u001b[1;36m[libx264 @ 0x5bc1d60aad80] \u001b[0mframe I:3     Avg QP:15.06  size:  4089\n",
            "\u001b[1;36m[libx264 @ 0x5bc1d60aad80] \u001b[0mframe P:265   Avg QP:18.97  size:    83\n",
            "\u001b[1;36m[libx264 @ 0x5bc1d60aad80] \u001b[0mframe B:254   Avg QP:20.61  size:    30\n",
            "\u001b[1;36m[libx264 @ 0x5bc1d60aad80] \u001b[0mconsecutive B-frames: 28.0% 17.6% 11.5% 42.9%\n",
            "\u001b[1;36m[libx264 @ 0x5bc1d60aad80] \u001b[0mmb I  I16..4: 30.1% 63.6%  6.3%\n",
            "\u001b[1;36m[libx264 @ 0x5bc1d60aad80] \u001b[0mmb P  I16..4:  0.0%  0.0%  0.0%  P16..4:  3.0%  1.6%  0.8%  0.0%  0.0%    skip:94.6%\n",
            "\u001b[1;36m[libx264 @ 0x5bc1d60aad80] \u001b[0mmb B  I16..4:  0.0%  0.0%  0.0%  B16..8:  1.8%  0.5%  0.1%  direct: 0.2%  skip:97.5%  L0:43.5% L1:51.6% BI: 4.9%\n",
            "\u001b[1;36m[libx264 @ 0x5bc1d60aad80] \u001b[0m8x8 transform intra:64.5% inter:59.2%\n",
            "\u001b[1;36m[libx264 @ 0x5bc1d60aad80] \u001b[0mcoded y,uvDC,uvAC intra: 63.7% 67.9% 55.0% inter: 1.1% 0.8% 0.0%\n",
            "\u001b[1;36m[libx264 @ 0x5bc1d60aad80] \u001b[0mi16 v,h,dc,p: 82%  0% 18%  0%\n",
            "\u001b[1;36m[libx264 @ 0x5bc1d60aad80] \u001b[0mi8 v,h,dc,ddl,ddr,vr,hd,vl,hu: 16% 19% 21%  2%  9%  9% 12%  5%  8%\n",
            "\u001b[1;36m[libx264 @ 0x5bc1d60aad80] \u001b[0mi4 v,h,dc,ddl,ddr,vr,hd,vl,hu: 62%  6% 11%  3%  5%  0%  5%  2%  6%\n",
            "\u001b[1;36m[libx264 @ 0x5bc1d60aad80] \u001b[0mi8c dc,h,v,p: 55% 13% 23%  9%\n",
            "\u001b[1;36m[libx264 @ 0x5bc1d60aad80] \u001b[0mWeighted P-Frames: Y:0.0% UV:0.0%\n",
            "\u001b[1;36m[libx264 @ 0x5bc1d60aad80] \u001b[0mref P L0: 63.9% 11.1% 14.7% 10.3%\n",
            "\u001b[1;36m[libx264 @ 0x5bc1d60aad80] \u001b[0mref B L0: 83.6% 12.0%  4.4%\n",
            "\u001b[1;36m[libx264 @ 0x5bc1d60aad80] \u001b[0mref B L1: 98.6%  1.4%\n",
            "\u001b[1;36m[libx264 @ 0x5bc1d60aad80] \u001b[0mkb/s:16.12\n",
            "\u001b[1;36m[aac @ 0x5bc1d60ac080] \u001b[0mQavg: 117.243\n"
          ]
        }
      ]
    },
    {
      "cell_type": "markdown",
      "metadata": {
        "id": "uo-WnsxfbwTG"
      },
      "source": [
        "2.   Use resize_factor to reduce the video resolution, as there is a change you might get better results for lower resolution videos. Why? Because the model was trained on low resolution faces."
      ]
    },
    {
      "cell_type": "code",
      "metadata": {
        "id": "xw0xFtZ2bsx8"
      },
      "source": [
        "!cd Wav2Lip && python inference.py --checkpoint_path checkpoints/wav2lip_gan.pth --face \"../sample_data/input_vid.mp4\" --audio \"../sample_data/input_audio.wav\" --resize_factor 2"
      ],
      "execution_count": null,
      "outputs": []
    }
  ]
}